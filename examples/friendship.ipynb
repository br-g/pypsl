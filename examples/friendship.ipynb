{
 "cells": [
  {
   "cell_type": "markdown",
   "metadata": {},
   "source": [
    "# Friendship\n",
    "\n",
    "This example is taken from the [psl-examples repo](https://github.com/linqs/psl-examples). It has been created with synthetic data.    \n",
    "Given a list of persons, their location and some indications of similarity, we will have to predict the degree of friendship between people.\n",
    "\n",
    "In this example, we:\n",
    "- create the model\n",
    "- ground the model\n",
    "- learn rules' weights\n",
    "- infer relations\n",
    "- evaluate predictions.\n",
    "\n",
    "To keep it simple, learning model's weights and inference will be performed on the same data (this is not ideal)."
   ]
  },
  {
   "cell_type": "code",
   "execution_count": 1,
   "metadata": {},
   "outputs": [],
   "source": [
    "from os import listdir\n",
    "from os.path import join\n",
    "import pypsl as psl\n",
    "\n",
    "from utils import fetch_data, read_data, print_data, print_pred"
   ]
  },
  {
   "cell_type": "code",
   "execution_count": 2,
   "metadata": {},
   "outputs": [],
   "source": [
    "DATA_DIR = 'data/friendship'"
   ]
  },
  {
   "cell_type": "markdown",
   "metadata": {},
   "source": [
    "# Data\n",
    "\n",
    "We download and prepare the data for this example."
   ]
  },
  {
   "cell_type": "code",
   "execution_count": 3,
   "metadata": {},
   "outputs": [],
   "source": [
    "fetch_data('friendship')"
   ]
  },
  {
   "cell_type": "code",
   "execution_count": 4,
   "metadata": {},
   "outputs": [
    {
     "data": {
      "text/plain": [
       "['friendship_init.tsv',\n",
       " 'similarity.tsv',\n",
       " '.DS_Store',\n",
       " 'locations.tsv',\n",
       " 'friendship_gold.tsv']"
      ]
     },
     "execution_count": 4,
     "metadata": {},
     "output_type": "execute_result"
    }
   ],
   "source": [
    "listdir(DATA_DIR)"
   ]
  },
  {
   "cell_type": "markdown",
   "metadata": {},
   "source": [
    "### Locations  \n",
    "- col. 0: the ID of a person\n",
    "- col. 1: the ID of a location\n",
    "- col. 2: whether this person lives in this location (0 or 1)"
   ]
  },
  {
   "cell_type": "code",
   "execution_count": 5,
   "metadata": {},
   "outputs": [
    {
     "name": "stdout",
     "output_type": "stream",
     "text": [
      "[\n",
      "  ['0', '0', 0.0],\n",
      "  ['0', '1', 0.0],\n",
      "  ['0', '2', 0.0],\n",
      "  ...\n",
      "]\n"
     ]
    }
   ],
   "source": [
    "print_data(join(DATA_DIR, 'locations.tsv'))"
   ]
  },
  {
   "cell_type": "markdown",
   "metadata": {},
   "source": [
    "### Similarity  \n",
    "- col. 0: the ID of a person\n",
    "- col. 1: the ID of a person\n",
    "- col. 2: a measure of how similar these persons are (0 means completely different, 1 means identical)"
   ]
  },
  {
   "cell_type": "code",
   "execution_count": 6,
   "metadata": {},
   "outputs": [
    {
     "name": "stdout",
     "output_type": "stream",
     "text": [
      "[\n",
      "  ['0', '1', 0.033897113089304015],\n",
      "  ['0', '2', 0.4210862576738333],\n",
      "  ['0', '3', 0.7846167630610641],\n",
      "  ...\n",
      "]\n"
     ]
    }
   ],
   "source": [
    "print_data(join(DATA_DIR, 'similarity.tsv'))"
   ]
  },
  {
   "cell_type": "markdown",
   "metadata": {},
   "source": [
    "### Friendship (init values)\n",
    "- col. 0: the ID of a person\n",
    "- col. 1: the ID of a person\n",
    "- col. 2: a measure of how much these persons are friends (0 means not friends at all, 1 means best friends)\n",
    "\n",
    "Col. 2 has been populated at random and will be predicted."
   ]
  },
  {
   "cell_type": "code",
   "execution_count": 7,
   "metadata": {},
   "outputs": [
    {
     "name": "stdout",
     "output_type": "stream",
     "text": [
      "[\n",
      "  ['0', '1', 0.2360677758912635],\n",
      "  ['0', '2', 0.2619481849323748],\n",
      "  ['0', '3', 0.3870290373904166],\n",
      "  ...\n",
      "]\n"
     ]
    }
   ],
   "source": [
    "print_data(join(DATA_DIR, 'friendship_init.tsv'))"
   ]
  },
  {
   "cell_type": "markdown",
   "metadata": {},
   "source": [
    "### Friendship (gold values)\n",
    "- col. 0: the ID of a person\n",
    "- col. 1: the ID of a person\n",
    "- col. 2: a measure of how much these persons are friends (0 means not friends at all, 1 means best friends)\n",
    "\n",
    "Col. 2 contains the true friendship values, those that we are trying to predict."
   ]
  },
  {
   "cell_type": "code",
   "execution_count": 8,
   "metadata": {},
   "outputs": [
    {
     "name": "stdout",
     "output_type": "stream",
     "text": [
      "[\n",
      "  ['0', '1', 0.0],\n",
      "  ['0', '2', 0.0],\n",
      "  ['0', '3', 1.0],\n",
      "  ...\n",
      "]\n"
     ]
    }
   ],
   "source": [
    "print_data(join(DATA_DIR, 'friendship_gold.tsv'))"
   ]
  },
  {
   "cell_type": "markdown",
   "metadata": {},
   "source": [
    "# Predicates\n",
    "Predicates express relations between terms.\n",
    "\n",
    "### Similar\n",
    "We create a predicate for similarity, and provide data."
   ]
  },
  {
   "cell_type": "code",
   "execution_count": 9,
   "metadata": {},
   "outputs": [],
   "source": [
    "similar = psl.Predicate(\n",
    "    'similar',\n",
    "    read_data(join(DATA_DIR, 'similarity.tsv'))\n",
    ")"
   ]
  },
  {
   "cell_type": "markdown",
   "metadata": {},
   "source": [
    "### Is_located\n",
    "\n",
    "Similarly, this predicate informs about location of people."
   ]
  },
  {
   "cell_type": "code",
   "execution_count": 10,
   "metadata": {},
   "outputs": [],
   "source": [
    "is_located = psl.Predicate(\n",
    "    'is_located',\n",
    "    read_data(join(DATA_DIR, 'locations.tsv'))\n",
    ")"
   ]
  },
  {
   "cell_type": "markdown",
   "metadata": {},
   "source": [
    "### Are_friends\n",
    "\n",
    "Finally, this informs about how friends two persons are.  \n",
    "\n",
    "We want this predicate to be predicted, so we set the `predict` parameter to `True`.    \n",
    "We provide some data with random values, `friendship_init.tsv`, to set the initial atoms' values.    \n",
    "Optionally, we also give gold data for weights' learning."
   ]
  },
  {
   "cell_type": "code",
   "execution_count": 11,
   "metadata": {},
   "outputs": [],
   "source": [
    "friends = psl.Predicate(\n",
    "    'friends',\n",
    "    read_data(join(DATA_DIR, 'friendship_init.tsv')),\n",
    "    read_data(join(DATA_DIR, 'friendship_gold.tsv')),\n",
    "    predict=True\n",
    ")"
   ]
  },
  {
   "cell_type": "markdown",
   "metadata": {},
   "source": [
    "# Rules\n",
    "Rules express relational dependencies between predicates.\n",
    "\n",
    "### Prior\n",
    "*\"People are not friends\".*\n",
    "\n",
    "This could be expressed using logic:     \n",
    "$\n",
    "\\begin{align}\n",
    "\\neg friends(P_1, P_2)\n",
    "\\end{align}\n",
    "$"
   ]
  },
  {
   "cell_type": "code",
   "execution_count": 12,
   "metadata": {},
   "outputs": [],
   "source": [
    "rule1 = psl.Rule(\n",
    "    positive_atoms=[],\n",
    "    negative_atoms=[\n",
    "        (friends, ['P1', 'P2'])\n",
    "    ]\n",
    ")"
   ]
  },
  {
   "cell_type": "markdown",
   "metadata": {},
   "source": [
    "### Using similarity\n",
    "*\"People who are at the same location and are similar are friends\".*\n",
    "    \n",
    "This could be expressed using logic, as a disjunction:  \n",
    "$\n",
    "\\begin{align}\n",
    "friends(P_1, P_2) \\;\\vee\\; \\neg is\\_located(P_1, L) \\;\\vee\\; \\neg is\\_located(P_2, L) \\;\\vee\\; \\neg similar(P_1, P_2)\n",
    "\\end{align}\n",
    "$"
   ]
  },
  {
   "cell_type": "code",
   "execution_count": 13,
   "metadata": {},
   "outputs": [],
   "source": [
    "rule2 = psl.Rule(\n",
    "    positive_atoms=[\n",
    "        (friends, ['P1', 'P2'])\n",
    "    ],\n",
    "    negative_atoms=[\n",
    "        (is_located, ['P1', 'L']),\n",
    "        (is_located, ['P2', 'L']),\n",
    "        (similar, ['P1', 'P2'])\n",
    "    ]\n",
    ")"
   ]
  },
  {
   "cell_type": "markdown",
   "metadata": {},
   "source": [
    "### Using symetry\n",
    "*\"If P1 is the friends of P2, P2 is the friend of P1\".*\n",
    "  \n",
    "$\n",
    "\\begin{align}\n",
    "friends(P_1, P_2) \\;\\vee\\; \\neg friends(P_2, P_1)\n",
    "\\end{align}\n",
    "$"
   ]
  },
  {
   "cell_type": "code",
   "execution_count": 14,
   "metadata": {},
   "outputs": [],
   "source": [
    "rule3 = psl.Rule(\n",
    "    positive_atoms=[\n",
    "        (friends, ['P1', 'P2'])\n",
    "    ],\n",
    "    negative_atoms=[\n",
    "        (friends, ['P2', 'P1'])\n",
    "    ]\n",
    ")"
   ]
  },
  {
   "cell_type": "markdown",
   "metadata": {},
   "source": [
    "# Model\n",
    "\n",
    "We create a model by providing a set of rules with their corresponding weights.  \n",
    "\n",
    "The weights of rules define their relative importance and can be learnt from data.    \n",
    "We initialize them with reasonable values."
   ]
  },
  {
   "cell_type": "code",
   "execution_count": 15,
   "metadata": {},
   "outputs": [],
   "source": [
    "model = psl.Model([\n",
    "    (1, rule1),  # prior\n",
    "    (10, rule2), # similarity\n",
    "    (10, rule3)  # symetry\n",
    "])"
   ]
  },
  {
   "cell_type": "markdown",
   "metadata": {},
   "source": [
    "# Grounding\n",
    "\n",
    "This step initializes the model, using the provided rules and data."
   ]
  },
  {
   "cell_type": "code",
   "execution_count": 16,
   "metadata": {},
   "outputs": [
    {
     "name": "stdout",
     "output_type": "stream",
     "text": [
      "20736 ground rules and 31314 ground atoms have been created.\n"
     ]
    }
   ],
   "source": [
    "model.ground()"
   ]
  },
  {
   "cell_type": "markdown",
   "metadata": {},
   "source": [
    "# Learning weights\n",
    "\n",
    "We learn rules' weights from data, by maximizing likelihood."
   ]
  },
  {
   "cell_type": "code",
   "execution_count": 17,
   "metadata": {},
   "outputs": [
    {
     "name": "stdout",
     "output_type": "stream",
     "text": [
      "--- iteration 1 ---\n",
      "gradient: 2.277732140093356\n",
      "\n",
      "--- iteration 2 ---\n",
      "gradient: 2.0272174595431807\n",
      "\n",
      "--- iteration 3 ---\n",
      "gradient: 1.8041695805467668\n",
      "\n",
      "--- iteration 4 ---\n",
      "gradient: 1.605690944500711\n",
      "\n",
      "--- iteration 5 ---\n",
      "gradient: 1.4291335778685827\n",
      "\n",
      "--- iteration 6 ---\n",
      "gradient: 1.272126229503757\n",
      "\n",
      "--- iteration 7 ---\n",
      "gradient: 1.1325600295488414\n",
      "\n",
      "--- iteration 8 ---\n",
      "gradient: 1.0085125161067074\n",
      "\n",
      "--- iteration 9 ---\n",
      "gradient: 0.8982716474992248\n",
      "\n",
      "--- iteration 10 ---\n",
      "gradient: 0.8002993041595723\n",
      "\n"
     ]
    }
   ],
   "source": [
    "weights = model.learn_weights(\n",
    "    step_size=1.0,\n",
    "    max_iterations=10\n",
    ")"
   ]
  },
  {
   "cell_type": "markdown",
   "metadata": {},
   "source": [
    "Let's see what has been learnt:"
   ]
  },
  {
   "cell_type": "code",
   "execution_count": 18,
   "metadata": {},
   "outputs": [
    {
     "data": {
      "text/plain": [
       "(0.16980379644939378, 4.051835027805813, 2.5226477463740933)"
      ]
     },
     "execution_count": 18,
     "metadata": {},
     "output_type": "execute_result"
    }
   ],
   "source": [
    "weights"
   ]
  },
  {
   "cell_type": "markdown",
   "metadata": {},
   "source": [
    "# Inference\n",
    "\n",
    "Model's weights have been updated automatically.    \n",
    "We now run inference to predict friendship between people."
   ]
  },
  {
   "cell_type": "code",
   "execution_count": 19,
   "metadata": {
    "scrolled": true
   },
   "outputs": [
    {
     "name": "stdout",
     "output_type": "stream",
     "text": [
      "--- iteration 10 ---\n",
      "objective: 20557.381715714804\n",
      "primal residual: 1.1988644440242422\n",
      "dual residual: 3.6331437969038496\n",
      "\n",
      "--- iteration 20 ---\n",
      "objective: 20613.186108545648\n",
      "primal residual: 0.3380461884438697\n",
      "dual residual: 1.1929757046209382\n",
      "\n",
      "--- iteration 30 ---\n",
      "objective: 20619.582716948324\n",
      "primal residual: 0.126207946875198\n",
      "dual residual: 0.3917477301307529\n",
      "\n",
      "--- iteration 40 ---\n",
      "objective: 20619.67382265885\n",
      "primal residual: 0.046741932877169656\n",
      "dual residual: 0.1295551702218412\n",
      "\n",
      "--- iteration 50 ---\n",
      "objective: 20619.898862990052\n",
      "primal residual: 0.01699225966688555\n",
      "dual residual: 0.04313820622204003\n",
      "\n",
      "Completed after 59 iterations\n"
     ]
    }
   ],
   "source": [
    "pred = model.infer()"
   ]
  },
  {
   "cell_type": "markdown",
   "metadata": {},
   "source": [
    "The model has made the following predictions:"
   ]
  },
  {
   "cell_type": "code",
   "execution_count": 20,
   "metadata": {},
   "outputs": [
    {
     "name": "stdout",
     "output_type": "stream",
     "text": [
      "'friends': (\n",
      "  ('66', '62', 0.000342812777265263),\n",
      "  ('9', '84', 0.0012836835351577583),\n",
      "  ('48', '81', 0.0012494037438394786),\n",
      "  ...\n",
      ")\n"
     ]
    }
   ],
   "source": [
    "print_pred(pred)"
   ]
  },
  {
   "cell_type": "markdown",
   "metadata": {},
   "source": [
    "# Evaluation\n",
    "\n",
    "We compute precision and recall for the predictions."
   ]
  },
  {
   "cell_type": "code",
   "execution_count": 21,
   "metadata": {},
   "outputs": [],
   "source": [
    "gold = read_data(join(DATA_DIR, 'friendship_gold.tsv'))\n",
    "gold_index = {tuple(e[:-1]): e[-1] for e in gold}"
   ]
  },
  {
   "cell_type": "code",
   "execution_count": 22,
   "metadata": {},
   "outputs": [
    {
     "name": "stdout",
     "output_type": "stream",
     "text": [
      "precision: 0.86\n",
      "recall: 0.79\n"
     ]
    }
   ],
   "source": [
    "tp, fp, fn = 0, 0, 0\n",
    "\n",
    "for p in pred['friends']:\n",
    "    pred_value = p[-1]\n",
    "    true_value = gold_index[tuple(p[:-1])]\n",
    "    \n",
    "    if true_value == 1:\n",
    "        if pred_value > 0.5:\n",
    "            tp += 1\n",
    "        else:\n",
    "            fn += 1\n",
    "    else:\n",
    "        if pred_value > 0.5:\n",
    "            fp += 1\n",
    "        \n",
    "print('precision: {}'.format(round(tp / (tp + fp), 2)))\n",
    "print('recall: {}'.format(round(tp / (tp + fn), 2)))"
   ]
  }
 ],
 "metadata": {
  "kernelspec": {
   "display_name": "Python 3",
   "language": "python",
   "name": "python3"
  },
  "language_info": {
   "codemirror_mode": {
    "name": "ipython",
    "version": 3
   },
   "file_extension": ".py",
   "mimetype": "text/x-python",
   "name": "python",
   "nbconvert_exporter": "python",
   "pygments_lexer": "ipython3",
   "version": "3.6.5"
  }
 },
 "nbformat": 4,
 "nbformat_minor": 2
}
